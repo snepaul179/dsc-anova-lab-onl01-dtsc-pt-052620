{
 "cells": [
  {
   "cell_type": "markdown",
   "metadata": {},
   "source": [
    "# ANOVA  - Lab\n",
    "\n",
    "## Introduction\n",
    "\n",
    "In this lab, you'll get some brief practice generating an ANOVA table (AOV) and interpreting its output. You'll also perform some investigations to compare the method to the t-tests you previously employed to conduct hypothesis testing.\n",
    "\n",
    "## Objectives\n",
    "\n",
    "In this lab you will: \n",
    "\n",
    "- Use ANOVA for testing multiple pairwise comparisons \n",
    "- Interpret results of an ANOVA and compare them to a t-test"
   ]
  },
  {
   "cell_type": "markdown",
   "metadata": {},
   "source": [
    "## Load the data\n",
    "\n",
    "Start by loading in the data stored in the file `'ToothGrowth.csv'`: "
   ]
  },
  {
   "cell_type": "code",
   "execution_count": 1,
   "metadata": {
    "ExecuteTime": {
     "end_time": "2020-08-18T21:29:55.681227Z",
     "start_time": "2020-08-18T21:29:53.413289Z"
    }
   },
   "outputs": [
    {
     "data": {
      "text/html": [
       "<div>\n",
       "<style scoped>\n",
       "    .dataframe tbody tr th:only-of-type {\n",
       "        vertical-align: middle;\n",
       "    }\n",
       "\n",
       "    .dataframe tbody tr th {\n",
       "        vertical-align: top;\n",
       "    }\n",
       "\n",
       "    .dataframe thead th {\n",
       "        text-align: right;\n",
       "    }\n",
       "</style>\n",
       "<table border=\"1\" class=\"dataframe\">\n",
       "  <thead>\n",
       "    <tr style=\"text-align: right;\">\n",
       "      <th></th>\n",
       "      <th>len</th>\n",
       "      <th>supp</th>\n",
       "      <th>dose</th>\n",
       "    </tr>\n",
       "  </thead>\n",
       "  <tbody>\n",
       "    <tr>\n",
       "      <td>0</td>\n",
       "      <td>4.2</td>\n",
       "      <td>VC</td>\n",
       "      <td>0.5</td>\n",
       "    </tr>\n",
       "    <tr>\n",
       "      <td>1</td>\n",
       "      <td>11.5</td>\n",
       "      <td>VC</td>\n",
       "      <td>0.5</td>\n",
       "    </tr>\n",
       "    <tr>\n",
       "      <td>2</td>\n",
       "      <td>7.3</td>\n",
       "      <td>VC</td>\n",
       "      <td>0.5</td>\n",
       "    </tr>\n",
       "    <tr>\n",
       "      <td>3</td>\n",
       "      <td>5.8</td>\n",
       "      <td>VC</td>\n",
       "      <td>0.5</td>\n",
       "    </tr>\n",
       "    <tr>\n",
       "      <td>4</td>\n",
       "      <td>6.4</td>\n",
       "      <td>VC</td>\n",
       "      <td>0.5</td>\n",
       "    </tr>\n",
       "  </tbody>\n",
       "</table>\n",
       "</div>"
      ],
      "text/plain": [
       "    len supp  dose\n",
       "0   4.2   VC   0.5\n",
       "1  11.5   VC   0.5\n",
       "2   7.3   VC   0.5\n",
       "3   5.8   VC   0.5\n",
       "4   6.4   VC   0.5"
      ]
     },
     "execution_count": 1,
     "metadata": {},
     "output_type": "execute_result"
    }
   ],
   "source": [
    "import pandas as pd\n",
    "import statsmodels.api as sm\n",
    "from statsmodels.formula.api import ols\n",
    "\n",
    "df = pd.read_csv('ToothGrowth.csv')\n",
    "df.head()\n"
   ]
  },
  {
   "cell_type": "markdown",
   "metadata": {},
   "source": [
    "## Generate the ANOVA table\n",
    "\n",
    "Now generate an ANOVA table in order to analyze the influence of the medication and dosage:  "
   ]
  },
  {
   "cell_type": "code",
   "execution_count": 2,
   "metadata": {
    "ExecuteTime": {
     "end_time": "2020-08-18T21:39:17.313305Z",
     "start_time": "2020-08-18T21:39:17.229050Z"
    }
   },
   "outputs": [
    {
     "name": "stdout",
     "output_type": "stream",
     "text": [
      "               sum_sq    df          F        PR(>F)\n",
      "C(supp)    205.350000   1.0  14.016638  4.292793e-04\n",
      "C(dose)   2426.434333   2.0  82.810935  1.871163e-17\n",
      "Residual   820.425000  56.0        NaN           NaN\n"
     ]
    }
   ],
   "source": [
    "formulae = 'len ~ C(supp) + C(dose)'\n",
    "lm = ols(formulae, df).fit()\n",
    "tabel = sm.stats.anova_lm(lm, typ = 2)\n",
    "print(tabel)"
   ]
  },
  {
   "cell_type": "markdown",
   "metadata": {},
   "source": [
    "## Interpret the output\n",
    "\n",
    "Make a brief comment regarding the statistics and the effect of supplement and dosage on tooth length: "
   ]
  },
  {
   "cell_type": "markdown",
   "metadata": {},
   "source": [
    "### Observation: \n",
    "    1) Both dose and supplement type are impactful. \n",
    "    2) At first glance, dosage seems to be the more impactful of the two."
   ]
  },
  {
   "cell_type": "markdown",
   "metadata": {},
   "source": [
    "## Compare to t-tests\n",
    "\n",
    "Now that you've had a chance to generate an ANOVA table, its interesting to compare the results to those from the t-tests you were working with earlier. With that, start by breaking the data into two samples: those given the OJ supplement, and those given the VC supplement. Afterward, you'll conduct a t-test to compare the tooth length of these two different samples: "
   ]
  },
  {
   "cell_type": "code",
   "execution_count": 9,
   "metadata": {
    "ExecuteTime": {
     "end_time": "2020-08-18T21:52:20.639388Z",
     "start_time": "2020-08-18T21:52:20.625708Z"
    }
   },
   "outputs": [
    {
     "data": {
      "text/plain": [
       "0     4.2\n",
       "1    11.5\n",
       "2     7.3\n",
       "3     5.8\n",
       "4     6.4\n",
       "Name: len, dtype: float64"
      ]
     },
     "execution_count": 9,
     "metadata": {},
     "output_type": "execute_result"
    }
   ],
   "source": [
    "# Your code here\n",
    "sup_dict = {'supp': ['OJ', 'VC']}\n",
    "supp_OJ = df[df['supp'] == sup_dict['supp'][0]]['len']\n",
    "supp_VC = df[df['supp'] == sup_dict['supp'][1]]['len']\n",
    "supp_VC.head()"
   ]
  },
  {
   "cell_type": "markdown",
   "metadata": {},
   "source": [
    "Now run a t-test between these two groups and print the associated two-sided p-value: "
   ]
  },
  {
   "cell_type": "code",
   "execution_count": 10,
   "metadata": {
    "ExecuteTime": {
     "end_time": "2020-08-18T21:53:01.582625Z",
     "start_time": "2020-08-18T21:53:01.577978Z"
    }
   },
   "outputs": [],
   "source": [
    "from scipy import stats"
   ]
  },
  {
   "cell_type": "code",
   "execution_count": 13,
   "metadata": {
    "ExecuteTime": {
     "end_time": "2020-08-18T21:57:16.531507Z",
     "start_time": "2020-08-18T21:57:16.522125Z"
    }
   },
   "outputs": [
    {
     "name": "stdout",
     "output_type": "stream",
     "text": [
      "-1.91526826869527 0.06039337122412849\n"
     ]
    }
   ],
   "source": [
    "# Calculate the 2-sided p-value for a t-test comparing the two supplement groups\n",
    "t_stats, tp = stats.ttest_ind(supp_VC, supp_OJ)\n",
    "print(t_stats, tp)"
   ]
  },
  {
   "cell_type": "markdown",
   "metadata": {},
   "source": [
    "## A 2-Category ANOVA F-test is equivalent to a 2-tailed t-test!\n",
    "\n",
    "Now, recalculate an ANOVA F-test with only the supplement variable. An ANOVA F-test between two categories is the same as performing a 2-tailed t-test! So, the p-value in the table should be identical to your calculation above.\n",
    "\n",
    "> Note: there may be a small fractional difference (>0.001) between the two values due to a rounding error between implementations. "
   ]
  },
  {
   "cell_type": "code",
   "execution_count": 14,
   "metadata": {
    "ExecuteTime": {
     "end_time": "2020-08-18T21:57:27.797566Z",
     "start_time": "2020-08-18T21:57:27.765819Z"
    }
   },
   "outputs": [
    {
     "name": "stdout",
     "output_type": "stream",
     "text": [
      "               sum_sq    df         F    PR(>F)\n",
      "C(supp)    205.350000   1.0  3.668253  0.060393\n",
      "Residual  3246.859333  58.0       NaN       NaN\n",
      "0.06039337122412849\n"
     ]
    }
   ],
   "source": [
    "# Your code here; conduct an ANOVA F-test of the oj and vc supplement groups.\n",
    "formulae = 'len ~ C(supp)'\n",
    "lm = ols(formulae, df).fit()\n",
    "tabel = sm.stats.anova_lm(lm, typ = 2)\n",
    "print(tabel)\n",
    "# Compare the p-value to that of the t-test above. \n",
    "print(tp)\n",
    "# They should match (there may be a tiny fractional difference due to rounding errors in varying implementations)"
   ]
  },
  {
   "cell_type": "markdown",
   "metadata": {},
   "source": [
    "## Run multiple t-tests\n",
    "\n",
    "While the 2-category ANOVA test is identical to a 2-tailed t-test, performing multiple t-tests leads to the multiple comparisons problem. To investigate this, look at the various sample groups you could create from the 2 features: "
   ]
  },
  {
   "cell_type": "code",
   "execution_count": 21,
   "metadata": {
    "ExecuteTime": {
     "end_time": "2020-08-18T22:02:41.626668Z",
     "start_time": "2020-08-18T22:02:41.548869Z"
    }
   },
   "outputs": [
    {
     "data": {
      "text/html": [
       "<div>\n",
       "<style scoped>\n",
       "    .dataframe tbody tr th:only-of-type {\n",
       "        vertical-align: middle;\n",
       "    }\n",
       "\n",
       "    .dataframe tbody tr th {\n",
       "        vertical-align: top;\n",
       "    }\n",
       "\n",
       "    .dataframe thead th {\n",
       "        text-align: right;\n",
       "    }\n",
       "</style>\n",
       "<table border=\"1\" class=\"dataframe\">\n",
       "  <thead>\n",
       "    <tr style=\"text-align: right;\">\n",
       "      <th></th>\n",
       "      <th></th>\n",
       "      <th>count</th>\n",
       "      <th>mean</th>\n",
       "      <th>std</th>\n",
       "      <th>min</th>\n",
       "      <th>25%</th>\n",
       "      <th>50%</th>\n",
       "      <th>75%</th>\n",
       "      <th>max</th>\n",
       "    </tr>\n",
       "    <tr>\n",
       "      <th>supp</th>\n",
       "      <th>dose</th>\n",
       "      <th></th>\n",
       "      <th></th>\n",
       "      <th></th>\n",
       "      <th></th>\n",
       "      <th></th>\n",
       "      <th></th>\n",
       "      <th></th>\n",
       "      <th></th>\n",
       "    </tr>\n",
       "  </thead>\n",
       "  <tbody>\n",
       "    <tr>\n",
       "      <td rowspan=\"3\" valign=\"top\">OJ</td>\n",
       "      <td>0.5</td>\n",
       "      <td>10.0</td>\n",
       "      <td>13.23</td>\n",
       "      <td>4.459709</td>\n",
       "      <td>8.2</td>\n",
       "      <td>9.700</td>\n",
       "      <td>12.25</td>\n",
       "      <td>16.175</td>\n",
       "      <td>21.5</td>\n",
       "    </tr>\n",
       "    <tr>\n",
       "      <td>1.0</td>\n",
       "      <td>10.0</td>\n",
       "      <td>22.70</td>\n",
       "      <td>3.910953</td>\n",
       "      <td>14.5</td>\n",
       "      <td>20.300</td>\n",
       "      <td>23.45</td>\n",
       "      <td>25.650</td>\n",
       "      <td>27.3</td>\n",
       "    </tr>\n",
       "    <tr>\n",
       "      <td>2.0</td>\n",
       "      <td>10.0</td>\n",
       "      <td>26.06</td>\n",
       "      <td>2.655058</td>\n",
       "      <td>22.4</td>\n",
       "      <td>24.575</td>\n",
       "      <td>25.95</td>\n",
       "      <td>27.075</td>\n",
       "      <td>30.9</td>\n",
       "    </tr>\n",
       "    <tr>\n",
       "      <td rowspan=\"3\" valign=\"top\">VC</td>\n",
       "      <td>0.5</td>\n",
       "      <td>10.0</td>\n",
       "      <td>7.98</td>\n",
       "      <td>2.746634</td>\n",
       "      <td>4.2</td>\n",
       "      <td>5.950</td>\n",
       "      <td>7.15</td>\n",
       "      <td>10.900</td>\n",
       "      <td>11.5</td>\n",
       "    </tr>\n",
       "    <tr>\n",
       "      <td>1.0</td>\n",
       "      <td>10.0</td>\n",
       "      <td>16.77</td>\n",
       "      <td>2.515309</td>\n",
       "      <td>13.6</td>\n",
       "      <td>15.275</td>\n",
       "      <td>16.50</td>\n",
       "      <td>17.300</td>\n",
       "      <td>22.5</td>\n",
       "    </tr>\n",
       "    <tr>\n",
       "      <td>2.0</td>\n",
       "      <td>10.0</td>\n",
       "      <td>26.14</td>\n",
       "      <td>4.797731</td>\n",
       "      <td>18.5</td>\n",
       "      <td>23.375</td>\n",
       "      <td>25.95</td>\n",
       "      <td>28.800</td>\n",
       "      <td>33.9</td>\n",
       "    </tr>\n",
       "  </tbody>\n",
       "</table>\n",
       "</div>"
      ],
      "text/plain": [
       "           count   mean       std   min     25%    50%     75%   max\n",
       "supp dose                                                           \n",
       "OJ   0.5    10.0  13.23  4.459709   8.2   9.700  12.25  16.175  21.5\n",
       "     1.0    10.0  22.70  3.910953  14.5  20.300  23.45  25.650  27.3\n",
       "     2.0    10.0  26.06  2.655058  22.4  24.575  25.95  27.075  30.9\n",
       "VC   0.5    10.0   7.98  2.746634   4.2   5.950   7.15  10.900  11.5\n",
       "     1.0    10.0  16.77  2.515309  13.6  15.275  16.50  17.300  22.5\n",
       "     2.0    10.0  26.14  4.797731  18.5  23.375  25.95  28.800  33.9"
      ]
     },
     "execution_count": 21,
     "metadata": {},
     "output_type": "execute_result"
    }
   ],
   "source": [
    "df.groupby(['supp', 'dose'])['len'].describe()"
   ]
  },
  {
   "cell_type": "code",
   "execution_count": 22,
   "metadata": {
    "ExecuteTime": {
     "end_time": "2020-08-18T22:02:49.800575Z",
     "start_time": "2020-08-18T22:02:49.748224Z"
    }
   },
   "outputs": [
    {
     "name": "stdout",
     "output_type": "stream",
     "text": [
      "('OJ', 0.5)\n",
      "('OJ', 1.0)\n",
      "('OJ', 2.0)\n",
      "('VC', 0.5)\n",
      "('VC', 1.0)\n",
      "('VC', 2.0)\n"
     ]
    }
   ],
   "source": [
    "for group in df.groupby(['supp', 'dose'])['len']:\n",
    "    group_name = group[0]\n",
    "    data = group[1]\n",
    "    print(group_name)"
   ]
  },
  {
   "cell_type": "markdown",
   "metadata": {},
   "source": [
    "While bad practice, examine the effects of calculating multiple t-tests with the various combinations of these. To do this, generate all combinations of the above groups. For each pairwise combination, calculate the p-value of a 2-sided t-test. Print the group combinations and their associated p-value for the two-sided t-test."
   ]
  },
  {
   "cell_type": "code",
   "execution_count": 23,
   "metadata": {
    "ExecuteTime": {
     "end_time": "2020-08-18T22:07:09.802709Z",
     "start_time": "2020-08-18T22:07:09.697460Z"
    }
   },
   "outputs": [
    {
     "name": "stdout",
     "output_type": "stream",
     "text": [
      "(('OJ', 0.5), ('OJ', 1.0)) 8.784919055161479e-05\n",
      "(('OJ', 0.5), ('OJ', 2.0)) 1.3237838776972294e-06\n",
      "(('OJ', 0.5), ('VC', 0.5)) 0.006358606764096813\n",
      "(('OJ', 0.5), ('VC', 1.0)) 0.04601033257637553\n",
      "(('OJ', 0.5), ('VC', 2.0)) 7.196253524006043e-06\n",
      "(('OJ', 1.0), ('OJ', 2.0)) 0.039195142046244004\n",
      "(('OJ', 1.0), ('VC', 0.5)) 3.6552067303259103e-08\n",
      "(('OJ', 1.0), ('VC', 1.0)) 0.001038375872299884\n",
      "(('OJ', 1.0), ('VC', 2.0)) 0.09652612338267014\n",
      "(('OJ', 2.0), ('VC', 0.5)) 1.3621396478988818e-11\n",
      "(('OJ', 2.0), ('VC', 1.0)) 2.3610742020468435e-07\n",
      "(('OJ', 2.0), ('VC', 2.0)) 0.9638515887233756\n",
      "(('VC', 0.5), ('VC', 1.0)) 6.811017702865016e-07\n",
      "(('VC', 0.5), ('VC', 2.0)) 4.6815774144921145e-08\n",
      "(('VC', 1.0), ('VC', 2.0)) 9.155603056638692e-05\n"
     ]
    }
   ],
   "source": [
    "# Your code here; reuse your t-test code above to calculate the p-value for a 2-sided t-test\n",
    "# for all combinations of the supplement-dose groups listed above. \n",
    "# (Since there isn't a control group, compare each group to every other group.)\n",
    "from itertools import combinations\n",
    "\n",
    "groups = [group[0] for group in df.groupby(['supp', 'dose'])['len']]\n",
    "combos = combinations(groups, 2)\n",
    "for combo in combos:\n",
    "    supp1 = combo[0][0]\n",
    "    dose1 = combo[0][1]\n",
    "    supp2 = combo[1][0]\n",
    "    dose2 = combo[1][1]\n",
    "    sample1 = df[(df.supp == supp1) & (df.dose == dose1)]['len']\n",
    "    sample2 = df[(df.supp == supp2) & (df.dose == dose2)]['len']\n",
    "    p = stats.ttest_ind(sample1, sample2, equal_var=False)[1]\n",
    "    print(combo, p)\n"
   ]
  },
  {
   "cell_type": "markdown",
   "metadata": {},
   "source": [
    "## Summary\n",
    "\n",
    "In this lesson, you implemented the ANOVA technique to generalize testing methods to multiple groups and factors."
   ]
  }
 ],
 "metadata": {
  "kernelspec": {
   "display_name": "Python 3",
   "language": "python",
   "name": "python3"
  },
  "language_info": {
   "codemirror_mode": {
    "name": "ipython",
    "version": 3
   },
   "file_extension": ".py",
   "mimetype": "text/x-python",
   "name": "python",
   "nbconvert_exporter": "python",
   "pygments_lexer": "ipython3",
   "version": "3.6.9"
  },
  "toc": {
   "base_numbering": 1,
   "nav_menu": {},
   "number_sections": true,
   "sideBar": true,
   "skip_h1_title": false,
   "title_cell": "Table of Contents",
   "title_sidebar": "Contents",
   "toc_cell": false,
   "toc_position": {},
   "toc_section_display": true,
   "toc_window_display": false
  },
  "varInspector": {
   "cols": {
    "lenName": 16,
    "lenType": 16,
    "lenVar": 40
   },
   "kernels_config": {
    "python": {
     "delete_cmd_postfix": "",
     "delete_cmd_prefix": "del ",
     "library": "var_list.py",
     "varRefreshCmd": "print(var_dic_list())"
    },
    "r": {
     "delete_cmd_postfix": ") ",
     "delete_cmd_prefix": "rm(",
     "library": "var_list.r",
     "varRefreshCmd": "cat(var_dic_list()) "
    }
   },
   "types_to_exclude": [
    "module",
    "function",
    "builtin_function_or_method",
    "instance",
    "_Feature"
   ],
   "window_display": false
  }
 },
 "nbformat": 4,
 "nbformat_minor": 2
}
